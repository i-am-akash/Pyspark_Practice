{
  "nbformat": 4,
  "nbformat_minor": 0,
  "metadata": {
    "colab": {
      "name": "Untitled1.ipynb",
      "provenance": [],
      "authorship_tag": "ABX9TyNGO86fBE9MkwQY1GNGhQR/",
      "include_colab_link": true
    },
    "kernelspec": {
      "name": "python3",
      "display_name": "Python 3"
    }
  },
  "cells": [
    {
      "cell_type": "markdown",
      "metadata": {
        "id": "view-in-github",
        "colab_type": "text"
      },
      "source": [
        "<a href=\"https://colab.research.google.com/github/i-am-akash/Pyspark_Practice/blob/main/calculateMinMax.ipynb\" target=\"_parent\"><img src=\"https://colab.research.google.com/assets/colab-badge.svg\" alt=\"Open In Colab\"/></a>"
      ]
    },
    {
      "cell_type": "markdown",
      "source": [
        "#By using group By Key"
      ],
      "metadata": {
        "id": "LYqi0IKKHXdp"
      }
    },
    {
      "cell_type": "code",
      "metadata": {
        "id": "ZgTNd2HhNp4t",
        "colab": {
          "base_uri": "https://localhost:8080/"
        },
        "outputId": "23f3a402-c875-41f3-fe3b-a766c80fec5c"
      },
      "source": [
        "pip install pyspark"
      ],
      "execution_count": 2,
      "outputs": [
        {
          "output_type": "stream",
          "name": "stdout",
          "text": [
            "Looking in indexes: https://pypi.org/simple, https://us-python.pkg.dev/colab-wheels/public/simple/\n",
            "Collecting pyspark\n",
            "  Downloading pyspark-3.3.0.tar.gz (281.3 MB)\n",
            "\u001b[K     |████████████████████████████████| 281.3 MB 46 kB/s \n",
            "\u001b[?25hCollecting py4j==0.10.9.5\n",
            "  Downloading py4j-0.10.9.5-py2.py3-none-any.whl (199 kB)\n",
            "\u001b[K     |████████████████████████████████| 199 kB 43.0 MB/s \n",
            "\u001b[?25hBuilding wheels for collected packages: pyspark\n",
            "  Building wheel for pyspark (setup.py) ... \u001b[?25l\u001b[?25hdone\n",
            "  Created wheel for pyspark: filename=pyspark-3.3.0-py2.py3-none-any.whl size=281764026 sha256=6905593c8a7c18421f0ba818140c5aceba6beb81508bffaa6889774b3f1d6770\n",
            "  Stored in directory: /root/.cache/pip/wheels/7a/8e/1b/f73a52650d2e5f337708d9f6a1750d451a7349a867f928b885\n",
            "Successfully built pyspark\n",
            "Installing collected packages: py4j, pyspark\n",
            "Successfully installed py4j-0.10.9.5 pyspark-3.3.0\n"
          ]
        }
      ]
    },
    {
      "cell_type": "code",
      "source": [
        "from pyspark import SparkContext, SparkConf\n",
        "conf = SparkConf().setAppName(\"calculate Min and Max value\")\n",
        "sc = SparkContext.getOrCreate(conf = conf)"
      ],
      "metadata": {
        "id": "gkryESpo6zdt"
      },
      "execution_count": 7,
      "outputs": []
    },
    {
      "cell_type": "code",
      "source": [
        "cs_file = sc.textFile(\"/content/sample_data/movie_ratings.csv\")\n",
        "cs_file.collect()"
      ],
      "metadata": {
        "id": "zkTcJVPj7vDK",
        "outputId": "0fe878fa-f1d7-434f-b39f-a6c170c99b01",
        "colab": {
          "base_uri": "https://localhost:8080/"
        }
      },
      "execution_count": 8,
      "outputs": [
        {
          "output_type": "execute_result",
          "data": {
            "text/plain": [
              "['The Shawshank Redemption,3',\n",
              " 'The Matrix,5',\n",
              " '12 Angry Men,3',\n",
              " '12 Angry Men,4',\n",
              " 'The Matrix,5',\n",
              " 'Pulp Fiction,4',\n",
              " 'The Godfather,5',\n",
              " 'The Shawshank Redemption,2',\n",
              " 'Pulp Fiction,4',\n",
              " 'The Godfather,5',\n",
              " '12 Angry Men,2',\n",
              " 'The Godfather,3',\n",
              " 'Pulp Fiction,4',\n",
              " '12 Angry Men,1',\n",
              " 'The Shawshank Redemption,2',\n",
              " '12 Angry Men,1',\n",
              " 'The Shawshank Redemption,5',\n",
              " 'Pulp Fiction,5',\n",
              " 'Pulp Fiction,2',\n",
              " 'The Matrix,4']"
            ]
          },
          "metadata": {},
          "execution_count": 8
        }
      ]
    },
    {
      "cell_type": "code",
      "source": [
        "cs_file_with_min = cs_file.map(lambda x:  tuple(x.split(\",\"))).groupByKey().mapValues(list).map(lambda x : (x[0], sorted([int(item) for item in x[1]])[0] , sorted([int(item) for item in x[1]]))) "
      ],
      "metadata": {
        "id": "w_wL5T9A809s"
      },
      "execution_count": 44,
      "outputs": []
    },
    {
      "cell_type": "code",
      "source": [
        "cs_file_with_min.map(lambda x : (x[0],x[1],  x[2][len(x[2])-1] )).collect()"
      ],
      "metadata": {
        "id": "O2-TeYydGNe5",
        "outputId": "9bf755f1-4acc-4a1f-8d67-b5ff2ca5fd92",
        "colab": {
          "base_uri": "https://localhost:8080/"
        }
      },
      "execution_count": 48,
      "outputs": [
        {
          "output_type": "execute_result",
          "data": {
            "text/plain": [
              "[('The Shawshank Redemption', 2, 5),\n",
              " ('12 Angry Men', 1, 4),\n",
              " ('The Godfather', 3, 5),\n",
              " ('The Matrix', 4, 5),\n",
              " ('Pulp Fiction', 2, 5)]"
            ]
          },
          "metadata": {},
          "execution_count": 48
        }
      ]
    },
    {
      "cell_type": "markdown",
      "source": [
        "#By using reduce By key"
      ],
      "metadata": {
        "id": "zotlboozHTll"
      }
    },
    {
      "cell_type": "code",
      "source": [
        "cs_file.map(lambda x:  (x.split(\",\")[0],int(x.split(\",\")[1]))).reduceByKey(lambda x, y : ( x if x<y else y )).collect()"
      ],
      "metadata": {
        "id": "S9PX8NSpHTJa",
        "outputId": "23c2fc1a-e43d-44aa-d91a-1ebb807cb4f8",
        "colab": {
          "base_uri": "https://localhost:8080/"
        }
      },
      "execution_count": 57,
      "outputs": [
        {
          "output_type": "execute_result",
          "data": {
            "text/plain": [
              "[('The Shawshank Redemption', 2),\n",
              " ('12 Angry Men', 1),\n",
              " ('The Godfather', 3),\n",
              " ('The Matrix', 4),\n",
              " ('Pulp Fiction', 2)]"
            ]
          },
          "metadata": {},
          "execution_count": 57
        }
      ]
    },
    {
      "cell_type": "code",
      "source": [
        "cs_file.map(lambda x:  (x.split(\",\")[0],int(x.split(\",\")[1]))).reduceByKey(lambda x, y : ( x if x>y else y )).collect()\n",
        "\n"
      ],
      "metadata": {
        "id": "CRs_6vOQJBx6",
        "outputId": "dd2da279-82a1-46e6-b699-d323e8a83c81",
        "colab": {
          "base_uri": "https://localhost:8080/"
        }
      },
      "execution_count": 58,
      "outputs": [
        {
          "output_type": "execute_result",
          "data": {
            "text/plain": [
              "[('The Shawshank Redemption', 5),\n",
              " ('12 Angry Men', 4),\n",
              " ('The Godfather', 5),\n",
              " ('The Matrix', 5),\n",
              " ('Pulp Fiction', 5)]"
            ]
          },
          "metadata": {},
          "execution_count": 58
        }
      ]
    }
  ]
}