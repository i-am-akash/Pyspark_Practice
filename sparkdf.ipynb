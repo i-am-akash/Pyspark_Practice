{
  "nbformat": 4,
  "nbformat_minor": 0,
  "metadata": {
    "colab": {
      "provenance": [],
      "authorship_tag": "ABX9TyOS/mONnpTQMw7ZywA59Dhv",
      "include_colab_link": true
    },
    "kernelspec": {
      "name": "python3",
      "display_name": "Python 3"
    },
    "language_info": {
      "name": "python"
    }
  },
  "cells": [
    {
      "cell_type": "markdown",
      "metadata": {
        "id": "view-in-github",
        "colab_type": "text"
      },
      "source": [
        "<a href=\"https://colab.research.google.com/github/i-am-akash/Pyspark_Practice/blob/i-am-akash-patch-1/sparkdf.ipynb\" target=\"_parent\"><img src=\"https://colab.research.google.com/assets/colab-badge.svg\" alt=\"Open In Colab\"/></a>"
      ]
    },
    {
      "cell_type": "markdown",
      "source": [
        "#Spark DataFrame Practice common fns "
      ],
      "metadata": {
        "id": "Tmb43BLfJ6LJ"
      }
    },
    {
      "cell_type": "code",
      "execution_count": 2,
      "metadata": {
        "id": "o0MryV5N8EEO",
        "outputId": "464206f3-10d0-4029-8e92-953ba35c95bf",
        "colab": {
          "base_uri": "https://localhost:8080/"
        }
      },
      "outputs": [
        {
          "output_type": "stream",
          "name": "stdout",
          "text": [
            "Looking in indexes: https://pypi.org/simple, https://us-python.pkg.dev/colab-wheels/public/simple/\n",
            "Collecting pyspark\n",
            "  Downloading pyspark-3.3.0.tar.gz (281.3 MB)\n",
            "\u001b[K     |████████████████████████████████| 281.3 MB 48 kB/s \n",
            "\u001b[?25hCollecting py4j==0.10.9.5\n",
            "  Downloading py4j-0.10.9.5-py2.py3-none-any.whl (199 kB)\n",
            "\u001b[K     |████████████████████████████████| 199 kB 34.8 MB/s \n",
            "\u001b[?25hBuilding wheels for collected packages: pyspark\n",
            "  Building wheel for pyspark (setup.py) ... \u001b[?25l\u001b[?25hdone\n",
            "  Created wheel for pyspark: filename=pyspark-3.3.0-py2.py3-none-any.whl size=281764026 sha256=12ef31505d658769ff3948bd7a130634069fb76a4d4a83fc504287283c6268bb\n",
            "  Stored in directory: /root/.cache/pip/wheels/7a/8e/1b/f73a52650d2e5f337708d9f6a1750d451a7349a867f928b885\n",
            "Successfully built pyspark\n",
            "Installing collected packages: py4j, pyspark\n",
            "Successfully installed py4j-0.10.9.5 pyspark-3.3.0\n"
          ]
        }
      ],
      "source": [
        "pip install pyspark"
      ]
    },
    {
      "cell_type": "code",
      "source": [
        "from pyspark import SparkContext, SparkConf, sql\n",
        "from pyspark.sql import *\n",
        "from pyspark.sql.types import *\n",
        "from pyspark.sql.functions import *\n",
        "conf = SparkConf().setAppName(\"rdd_session\")\n",
        "sc = SparkContext.getOrCreate(conf = conf)\n",
        "spark = SparkSession.builder.appName(\"df_session\").getOrCreate()"
      ],
      "metadata": {
        "id": "Dmg_E2PTKVZt"
      },
      "execution_count": 45,
      "outputs": []
    },
    {
      "cell_type": "markdown",
      "source": [
        "#Reading the file using df\n",
        "\n",
        "---\n",
        "\n",
        "\n"
      ],
      "metadata": {
        "id": "EvdqOGa9OVMp"
      }
    },
    {
      "cell_type": "code",
      "source": [
        "df = spark.read.options(inferSchema = \"True\", header = \"True\").csv(\"/content/sample_data/california_housing_test.csv\")\n",
        "df.show()\n",
        "df.printSchema()"
      ],
      "metadata": {
        "id": "-uail2uaPEu7",
        "outputId": "f9140b99-fd7d-42c2-c6d6-911c3813a5c7",
        "colab": {
          "base_uri": "https://localhost:8080/"
        }
      },
      "execution_count": 18,
      "outputs": [
        {
          "output_type": "stream",
          "name": "stdout",
          "text": [
            "+---------+--------+------------------+-----------+--------------+----------+----------+-------------+------------------+\n",
            "|longitude|latitude|housing_median_age|total_rooms|total_bedrooms|population|households|median_income|median_house_value|\n",
            "+---------+--------+------------------+-----------+--------------+----------+----------+-------------+------------------+\n",
            "|  -122.05|   37.37|              27.0|     3885.0|         661.0|    1537.0|     606.0|       6.6085|          344700.0|\n",
            "|   -118.3|   34.26|              43.0|     1510.0|         310.0|     809.0|     277.0|        3.599|          176500.0|\n",
            "|  -117.81|   33.78|              27.0|     3589.0|         507.0|    1484.0|     495.0|       5.7934|          270500.0|\n",
            "|  -118.36|   33.82|              28.0|       67.0|          15.0|      49.0|      11.0|       6.1359|          330000.0|\n",
            "|  -119.67|   36.33|              19.0|     1241.0|         244.0|     850.0|     237.0|       2.9375|           81700.0|\n",
            "|  -119.56|   36.51|              37.0|     1018.0|         213.0|     663.0|     204.0|       1.6635|           67000.0|\n",
            "|  -121.43|   38.63|              43.0|     1009.0|         225.0|     604.0|     218.0|       1.6641|           67000.0|\n",
            "|  -120.65|   35.48|              19.0|     2310.0|         471.0|    1341.0|     441.0|        3.225|          166900.0|\n",
            "|  -122.84|    38.4|              15.0|     3080.0|         617.0|    1446.0|     599.0|       3.6696|          194400.0|\n",
            "|  -118.02|   34.08|              31.0|     2402.0|         632.0|    2830.0|     603.0|       2.3333|          164200.0|\n",
            "|  -118.24|   33.98|              45.0|      972.0|         249.0|    1288.0|     261.0|       2.2054|          125000.0|\n",
            "|  -119.12|   35.85|              37.0|      736.0|         166.0|     564.0|     138.0|       2.4167|           58300.0|\n",
            "|  -121.93|   37.25|              36.0|     1089.0|         182.0|     535.0|     170.0|         4.69|          252600.0|\n",
            "|  -117.03|   32.97|              16.0|     3936.0|         694.0|    1935.0|     659.0|       4.5625|          231200.0|\n",
            "|  -117.97|   33.73|              27.0|     2097.0|         325.0|    1217.0|     331.0|       5.7121|          222500.0|\n",
            "|  -117.99|   33.81|              42.0|      161.0|          40.0|     157.0|      50.0|          2.2|          153100.0|\n",
            "|  -120.81|   37.53|              15.0|      570.0|         123.0|     189.0|     107.0|        1.875|          181300.0|\n",
            "|   -121.2|   38.69|              26.0|     3077.0|         607.0|    1603.0|     595.0|       2.7174|          137500.0|\n",
            "|  -118.88|   34.21|              26.0|     1590.0|         196.0|     654.0|     199.0|       6.5851|          300000.0|\n",
            "|  -122.59|   38.01|              35.0|     8814.0|        1307.0|    3450.0|    1258.0|       6.1724|          414300.0|\n",
            "+---------+--------+------------------+-----------+--------------+----------+----------+-------------+------------------+\n",
            "only showing top 20 rows\n",
            "\n",
            "root\n",
            " |-- longitude: double (nullable = true)\n",
            " |-- latitude: double (nullable = true)\n",
            " |-- housing_median_age: double (nullable = true)\n",
            " |-- total_rooms: double (nullable = true)\n",
            " |-- total_bedrooms: double (nullable = true)\n",
            " |-- population: double (nullable = true)\n",
            " |-- households: double (nullable = true)\n",
            " |-- median_income: double (nullable = true)\n",
            " |-- median_house_value: double (nullable = true)\n",
            "\n"
          ]
        }
      ]
    },
    {
      "cell_type": "markdown",
      "source": [
        "#providing Schema explicilty"
      ],
      "metadata": {
        "id": "GtluzrmJQxcT"
      }
    },
    {
      "cell_type": "code",
      "source": [
        "schema = StructType([\n",
        "  StructField(\"longitude\", DoubleType(), True),\n",
        "  StructField(\"latitude\", DoubleType(), True),\n",
        "  StructField(\"housing_median_age\", StringType(), True),\n",
        "  StructField(\"total_rooms\",StringType(), True),\n",
        "  StructField(\"total_bedrooms\", StringType(), True),\n",
        "  StructField(\"population\", StringType(), True),\n",
        "  StructField(\"households\", StringType(), True),\n",
        "  StructField(\"median_income\", DoubleType(), True),\n",
        "  StructField(\"median_house_value\", DoubleType(), True)\n",
        "])"
      ],
      "metadata": {
        "id": "wQv55Y58Qwg-"
      },
      "execution_count": 41,
      "outputs": []
    },
    {
      "cell_type": "code",
      "source": [
        "df_schema = spark.read.options(header = \"True\").schema(schema).csv(\"/content/sample_data/california_housing_test.csv\")\n",
        "df_schema = df_schema.withColumn(\"total_rooms\", col(\"total_rooms\").cast(\"Int\"))\n",
        "df_schema.show()\n",
        "df_schema.printSchema()"
      ],
      "metadata": {
        "id": "ROGaX0qoVITN",
        "outputId": "c26232b2-dfd5-401f-c674-88c2d566831a",
        "colab": {
          "base_uri": "https://localhost:8080/"
        }
      },
      "execution_count": 48,
      "outputs": [
        {
          "output_type": "stream",
          "name": "stdout",
          "text": [
            "+---------+--------+------------------+-----------+--------------+-----------+-----------+-------------+------------------+\n",
            "|longitude|latitude|housing_median_age|total_rooms|total_bedrooms| population| households|median_income|median_house_value|\n",
            "+---------+--------+------------------+-----------+--------------+-----------+-----------+-------------+------------------+\n",
            "|  -122.05|   37.37|         27.000000|       3885|    661.000000|1537.000000| 606.000000|       6.6085|          344700.0|\n",
            "|   -118.3|   34.26|         43.000000|       1510|    310.000000| 809.000000| 277.000000|        3.599|          176500.0|\n",
            "|  -117.81|   33.78|         27.000000|       3589|    507.000000|1484.000000| 495.000000|       5.7934|          270500.0|\n",
            "|  -118.36|   33.82|         28.000000|         67|     15.000000|  49.000000|  11.000000|       6.1359|          330000.0|\n",
            "|  -119.67|   36.33|         19.000000|       1241|    244.000000| 850.000000| 237.000000|       2.9375|           81700.0|\n",
            "|  -119.56|   36.51|         37.000000|       1018|    213.000000| 663.000000| 204.000000|       1.6635|           67000.0|\n",
            "|  -121.43|   38.63|         43.000000|       1009|    225.000000| 604.000000| 218.000000|       1.6641|           67000.0|\n",
            "|  -120.65|   35.48|         19.000000|       2310|    471.000000|1341.000000| 441.000000|        3.225|          166900.0|\n",
            "|  -122.84|    38.4|         15.000000|       3080|    617.000000|1446.000000| 599.000000|       3.6696|          194400.0|\n",
            "|  -118.02|   34.08|         31.000000|       2402|    632.000000|2830.000000| 603.000000|       2.3333|          164200.0|\n",
            "|  -118.24|   33.98|         45.000000|        972|    249.000000|1288.000000| 261.000000|       2.2054|          125000.0|\n",
            "|  -119.12|   35.85|         37.000000|        736|    166.000000| 564.000000| 138.000000|       2.4167|           58300.0|\n",
            "|  -121.93|   37.25|         36.000000|       1089|    182.000000| 535.000000| 170.000000|         4.69|          252600.0|\n",
            "|  -117.03|   32.97|         16.000000|       3936|    694.000000|1935.000000| 659.000000|       4.5625|          231200.0|\n",
            "|  -117.97|   33.73|         27.000000|       2097|    325.000000|1217.000000| 331.000000|       5.7121|          222500.0|\n",
            "|  -117.99|   33.81|         42.000000|        161|     40.000000| 157.000000|  50.000000|          2.2|          153100.0|\n",
            "|  -120.81|   37.53|         15.000000|        570|    123.000000| 189.000000| 107.000000|        1.875|          181300.0|\n",
            "|   -121.2|   38.69|         26.000000|       3077|    607.000000|1603.000000| 595.000000|       2.7174|          137500.0|\n",
            "|  -118.88|   34.21|         26.000000|       1590|    196.000000| 654.000000| 199.000000|       6.5851|          300000.0|\n",
            "|  -122.59|   38.01|         35.000000|       8814|   1307.000000|3450.000000|1258.000000|       6.1724|          414300.0|\n",
            "+---------+--------+------------------+-----------+--------------+-----------+-----------+-------------+------------------+\n",
            "only showing top 20 rows\n",
            "\n",
            "root\n",
            " |-- longitude: double (nullable = true)\n",
            " |-- latitude: double (nullable = true)\n",
            " |-- housing_median_age: string (nullable = true)\n",
            " |-- total_rooms: integer (nullable = true)\n",
            " |-- total_bedrooms: string (nullable = true)\n",
            " |-- population: string (nullable = true)\n",
            " |-- households: string (nullable = true)\n",
            " |-- median_income: double (nullable = true)\n",
            " |-- median_house_value: double (nullable = true)\n",
            "\n"
          ]
        }
      ]
    },
    {
      "cell_type": "markdown",
      "source": [
        "#Created DF from RDD "
      ],
      "metadata": {
        "id": "XEAO9L7eWD40"
      }
    },
    {
      "cell_type": "code",
      "source": [],
      "metadata": {
        "id": "xDm-pPxwWJKG"
      },
      "execution_count": null,
      "outputs": []
    }
  ]
}