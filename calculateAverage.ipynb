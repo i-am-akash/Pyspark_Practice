{
  "nbformat": 4,
  "nbformat_minor": 0,
  "metadata": {
    "colab": {
      "provenance": [],
      "toc_visible": true,
      "authorship_tag": "ABX9TyMqtyemh1nD6q/shB5D/0Eh",
      "include_colab_link": true
    },
    "kernelspec": {
      "name": "python3",
      "display_name": "Python 3"
    },
    "language_info": {
      "name": "python"
    }
  },
  "cells": [
    {
      "cell_type": "markdown",
      "metadata": {
        "id": "view-in-github",
        "colab_type": "text"
      },
      "source": [
        "<a href=\"https://colab.research.google.com/github/i-am-akash/Pyspark_Practice/blob/main/calculateAverage.ipynb\" target=\"_parent\"><img src=\"https://colab.research.google.com/assets/colab-badge.svg\" alt=\"Open In Colab\"/></a>"
      ]
    },
    {
      "cell_type": "markdown",
      "source": [
        "#Calculate Min and Max of movie ratings\n",
        "\n"
      ],
      "metadata": {
        "id": "8hb2HDAA-xns"
      }
    },
    {
      "cell_type": "code",
      "source": [
        "pip install pyspark"
      ],
      "metadata": {
        "colab": {
          "base_uri": "https://localhost:8080/"
        },
        "id": "v82dpEd--3s-",
        "outputId": "aa744ee6-d6e5-4551-8d53-acfb9034ddba"
      },
      "execution_count": 2,
      "outputs": [
        {
          "output_type": "stream",
          "name": "stdout",
          "text": [
            "Looking in indexes: https://pypi.org/simple, https://us-python.pkg.dev/colab-wheels/public/simple/\n",
            "Requirement already satisfied: pyspark in /usr/local/lib/python3.7/dist-packages (3.3.0)\n",
            "Requirement already satisfied: py4j==0.10.9.5 in /usr/local/lib/python3.7/dist-packages (from pyspark) (0.10.9.5)\n"
          ]
        }
      ]
    },
    {
      "cell_type": "code",
      "source": [
        "from pyspark import SparkConf, SparkContext\n",
        "Conf = SparkConf().setAppName(\"Finding Min and max for movie ratings\")\n",
        "sc = SparkContext.getOrCreate(conf = Conf)"
      ],
      "metadata": {
        "id": "9JXSb0xR_Co6"
      },
      "execution_count": 3,
      "outputs": []
    },
    {
      "cell_type": "code",
      "source": [
        "csv_File = sc.textFile(\"/content/sample_data/average_quiz_sample.csv\")\n",
        "csv_File.collect()"
      ],
      "metadata": {
        "colab": {
          "base_uri": "https://localhost:8080/"
        },
        "id": "5kUmmKRVCR6-",
        "outputId": "31752181-0e28-41c3-fe82-229d8d53a975"
      },
      "execution_count": 7,
      "outputs": [
        {
          "output_type": "execute_result",
          "data": {
            "text/plain": [
              "['JAN,NY,3.0',\n",
              " 'JAN,PA,1.0',\n",
              " 'JAN,NJ,2.0',\n",
              " 'JAN,CT,4.0',\n",
              " 'FEB,PA,1.0',\n",
              " 'FEB,NJ,1.0',\n",
              " 'FEB,NY,2.0',\n",
              " 'FEB,VT,1.0',\n",
              " 'MAR,NJ,2.0',\n",
              " 'MAR,NY,1.0',\n",
              " 'MAR,VT,2.0',\n",
              " 'MAR,PA,3.0']"
            ]
          },
          "metadata": {},
          "execution_count": 7
        }
      ]
    }
  ]
}