{
  "nbformat": 4,
  "nbformat_minor": 0,
  "metadata": {
    "colab": {
      "provenance": [],
      "authorship_tag": "ABX9TyN0qqn9z+guixQMx5kRAvig",
      "include_colab_link": true
    },
    "kernelspec": {
      "name": "python3",
      "display_name": "Python 3"
    },
    "language_info": {
      "name": "python"
    }
  },
  "cells": [
    {
      "cell_type": "markdown",
      "metadata": {
        "id": "view-in-github",
        "colab_type": "text"
      },
      "source": [
        "<a href=\"https://colab.research.google.com/github/i-am-akash/Pyspark_Practice/blob/main/calculateAverage.ipynb\" target=\"_parent\"><img src=\"https://colab.research.google.com/assets/colab-badge.svg\" alt=\"Open In Colab\"/></a>"
      ]
    },
    {
      "cell_type": "code",
      "execution_count": null,
      "metadata": {
        "id": "vpccAfFx-vXU"
      },
      "outputs": [],
      "source": []
    },
    {
      "cell_type": "markdown",
      "source": [
        "#Calculate Average for movie ratings\n"
      ],
      "metadata": {
        "id": "8hb2HDAA-xns"
      }
    },
    {
      "cell_type": "code",
      "source": [
        "pip install pyspark"
      ],
      "metadata": {
        "colab": {
          "base_uri": "https://localhost:8080/"
        },
        "id": "v82dpEd--3s-",
        "outputId": "b8ecd8a9-7885-4529-fcc2-b5450708c220"
      },
      "execution_count": null,
      "outputs": [
        {
          "output_type": "stream",
          "name": "stdout",
          "text": [
            "Looking in indexes: https://pypi.org/simple, https://us-python.pkg.dev/colab-wheels/public/simple/\n",
            "Collecting pyspark\n",
            "  Downloading pyspark-3.3.0.tar.gz (281.3 MB)\n",
            "\u001b[K     |████████████████████████████████| 281.3 MB 45 kB/s \n",
            "\u001b[?25hCollecting py4j==0.10.9.5\n",
            "  Downloading py4j-0.10.9.5-py2.py3-none-any.whl (199 kB)\n",
            "\u001b[K     |████████████████████████████████| 199 kB 54.8 MB/s \n",
            "\u001b[?25hBuilding wheels for collected packages: pyspark\n",
            "  Building wheel for pyspark (setup.py) ... \u001b[?25l\u001b[?25hdone\n",
            "  Created wheel for pyspark: filename=pyspark-3.3.0-py2.py3-none-any.whl size=281764026 sha256=2c5017bb405f72285b5e3daefc86968fceec4c2ff5549cd3e9bbf2061721f222\n",
            "  Stored in directory: /root/.cache/pip/wheels/7a/8e/1b/f73a52650d2e5f337708d9f6a1750d451a7349a867f928b885\n",
            "Successfully built pyspark\n",
            "Installing collected packages: py4j, pyspark\n",
            "Successfully installed py4j-0.10.9.5 pyspark-3.3.0\n"
          ]
        }
      ]
    },
    {
      "cell_type": "code",
      "source": [
        "from pyspark import SparkConf, SparkContext\n",
        "Conf = SparkConf().setAppName(\"Finding Average for movie ratings\")\n",
        "sc = SparkContext.getOrCreate(conf = Conf)"
      ],
      "metadata": {
        "id": "9JXSb0xR_Co6"
      },
      "execution_count": null,
      "outputs": []
    },
    {
      "cell_type": "code",
      "source": [
        "def addition(listV):\n",
        "  sum = 0\n",
        "  i = 0\n",
        "  for i in range(0,len(listV)):\n",
        "    sum = sum+int(listV[i]) \n",
        "  return sum/(i+1)"
      ],
      "metadata": {
        "id": "eX5G8ctopk0V"
      },
      "execution_count": null,
      "outputs": []
    },
    {
      "cell_type": "code",
      "source": [
        "csv_File = sc.textFile(\"/content/sample_data/movie_ratings.csv\")\n",
        "csv_File.map(lambda x : tuple(x.split(\",\"))).groupByKey().mapValues(list).map(lambda x : (x[0],addition(x[1]))).collect()"
      ],
      "metadata": {
        "colab": {
          "base_uri": "https://localhost:8080/"
        },
        "id": "5kUmmKRVCR6-",
        "outputId": "335db1bc-2577-44da-9564-1d18f2d755ca"
      },
      "execution_count": null,
      "outputs": [
        {
          "output_type": "execute_result",
          "data": {
            "text/plain": [
              "[('The Shawshank Redemption', 3.0),\n",
              " ('12 Angry Men', 2.2),\n",
              " ('The Godfather', 4.333333333333333),\n",
              " ('The Matrix', 4.666666666666667),\n",
              " ('Pulp Fiction', 3.8)]"
            ]
          },
          "metadata": {},
          "execution_count": 92
        }
      ]
    },
    {
      "cell_type": "markdown",
      "source": [
        "# Using Reduce By Key : "
      ],
      "metadata": {
        "id": "DE_V__wvtG-e"
      }
    },
    {
      "cell_type": "code",
      "source": [
        "csv_File_1 = sc.textFile(\"/content/sample_data/movie_ratings.csv\")\n",
        "csv_File_1.collect()"
      ],
      "metadata": {
        "colab": {
          "base_uri": "https://localhost:8080/"
        },
        "id": "KrpCyyGutOyU",
        "outputId": "67167b96-ed6d-4a04-f110-136c85074a92"
      },
      "execution_count": null,
      "outputs": [
        {
          "output_type": "execute_result",
          "data": {
            "text/plain": [
              "['The Shawshank Redemption,3',\n",
              " 'The Matrix,5',\n",
              " '12 Angry Men,3',\n",
              " '12 Angry Men,4',\n",
              " 'The Matrix,5',\n",
              " 'Pulp Fiction,4',\n",
              " 'The Godfather,5',\n",
              " 'The Shawshank Redemption,2',\n",
              " 'Pulp Fiction,4',\n",
              " 'The Godfather,5',\n",
              " '12 Angry Men,2',\n",
              " 'The Godfather,3',\n",
              " 'Pulp Fiction,4',\n",
              " '12 Angry Men,1',\n",
              " 'The Shawshank Redemption,2',\n",
              " '12 Angry Men,1',\n",
              " 'The Shawshank Redemption,5',\n",
              " 'Pulp Fiction,5',\n",
              " 'Pulp Fiction,2',\n",
              " 'The Matrix,4']"
            ]
          },
          "metadata": {},
          "execution_count": 94
        }
      ]
    },
    {
      "cell_type": "code",
      "source": [
        "csv_File_1 = csv_File_1.repartition(10)\n",
        "\n",
        "csv_File_1.getNumPartitions()"
      ],
      "metadata": {
        "colab": {
          "base_uri": "https://localhost:8080/"
        },
        "id": "mZepYoW05LeB",
        "outputId": "2b2bfc34-46f3-45c3-aaa9-01bc142deb16"
      },
      "execution_count": null,
      "outputs": [
        {
          "output_type": "execute_result",
          "data": {
            "text/plain": [
              "10"
            ]
          },
          "metadata": {},
          "execution_count": 127
        }
      ]
    },
    {
      "cell_type": "code",
      "source": [
        "csv_File_2 = csv_File_1.map(lambda x : (x.split(\",\")[0], (int(x.split(\",\")[1]),1))).reduceByKey(lambda x,y : (x[0]+y[0],x[1]+y[1])).map(lambda x: (x[0], x[1][0]/x[1][1]))\n",
        "csv_File_2.collect()"
      ],
      "metadata": {
        "colab": {
          "base_uri": "https://localhost:8080/"
        },
        "id": "J0PXfRyousDo",
        "outputId": "591c038b-eb8b-4756-e7c7-f189bdc1dfd3"
      },
      "execution_count": null,
      "outputs": [
        {
          "output_type": "execute_result",
          "data": {
            "text/plain": [
              "[('The Shawshank Redemption', 3.0),\n",
              " ('12 Angry Men', 2.2),\n",
              " ('The Matrix', 4.666666666666667),\n",
              " ('The Godfather', 4.333333333333333),\n",
              " ('Pulp Fiction', 3.8)]"
            ]
          },
          "metadata": {},
          "execution_count": 129
        }
      ]
    },
    {
      "cell_type": "code",
      "source": [
        "csv_File_2.saveAsTextFile(\"/content/sample_data/movie_ratings\")"
      ],
      "metadata": {
        "id": "XlTBpOB85ter"
      },
      "execution_count": null,
      "outputs": []
    }
  ]
}