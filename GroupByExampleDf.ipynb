{
  "nbformat": 4,
  "nbformat_minor": 0,
  "metadata": {
    "colab": {
      "provenance": [],
      "authorship_tag": "ABX9TyMCIINnCAeE7zmG5v/8m6Dc",
      "include_colab_link": true
    },
    "kernelspec": {
      "name": "python3",
      "display_name": "Python 3"
    },
    "language_info": {
      "name": "python"
    }
  },
  "cells": [
    {
      "cell_type": "markdown",
      "metadata": {
        "id": "view-in-github",
        "colab_type": "text"
      },
      "source": [
        "<a href=\"https://colab.research.google.com/github/i-am-akash/Pyspark_Practice/blob/main/GroupByExampleDf.ipynb\" target=\"_parent\"><img src=\"https://colab.research.google.com/assets/colab-badge.svg\" alt=\"Open In Colab\"/></a>"
      ]
    },
    {
      "cell_type": "markdown",
      "source": [
        "\n",
        "\n",
        "1.   Display the total numbers of students enrolled in each course.\n",
        "2.   Display the toatl number of male and female students enrolled n each course\n",
        "3. Display the total marks achiecved by each gender in each course.\n",
        "4. Display the miminum, maximum and average marks achieed in each course by each age group.\n",
        "\n"
      ],
      "metadata": {
        "id": "ubv8e1maknA7"
      }
    },
    {
      "cell_type": "code",
      "execution_count": 1,
      "metadata": {
        "id": "Mrs6o8n6Mz1j",
        "outputId": "82de03c5-47d6-424a-b839-e73b579536f3",
        "colab": {
          "base_uri": "https://localhost:8080/"
        }
      },
      "outputs": [
        {
          "output_type": "stream",
          "name": "stdout",
          "text": [
            "Looking in indexes: https://pypi.org/simple, https://us-python.pkg.dev/colab-wheels/public/simple/\n",
            "Collecting pyspark\n",
            "  Downloading pyspark-3.3.0.tar.gz (281.3 MB)\n",
            "\u001b[K     |████████████████████████████████| 281.3 MB 47 kB/s \n",
            "\u001b[?25hCollecting py4j==0.10.9.5\n",
            "  Downloading py4j-0.10.9.5-py2.py3-none-any.whl (199 kB)\n",
            "\u001b[K     |████████████████████████████████| 199 kB 51.5 MB/s \n",
            "\u001b[?25hBuilding wheels for collected packages: pyspark\n",
            "  Building wheel for pyspark (setup.py) ... \u001b[?25l\u001b[?25hdone\n",
            "  Created wheel for pyspark: filename=pyspark-3.3.0-py2.py3-none-any.whl size=281764026 sha256=3717667b238fb33beb34c863f166ac499ea408bd699a6cce961b1ebd948d1254\n",
            "  Stored in directory: /root/.cache/pip/wheels/7a/8e/1b/f73a52650d2e5f337708d9f6a1750d451a7349a867f928b885\n",
            "Successfully built pyspark\n",
            "Installing collected packages: py4j, pyspark\n",
            "Successfully installed py4j-0.10.9.5 pyspark-3.3.0\n"
          ]
        }
      ],
      "source": [
        "pip install pyspark"
      ]
    },
    {
      "cell_type": "code",
      "source": [
        "from pyspark.sql import *\n",
        "from pyspark.sql.functions import *\n",
        "from pyspark.sql.types import *"
      ],
      "metadata": {
        "id": "Z5i_Kpx_lsuR"
      },
      "execution_count": 2,
      "outputs": []
    },
    {
      "cell_type": "code",
      "source": [
        "spark = SparkSession.builder.appName(\"groupby\").getOrCreate()"
      ],
      "metadata": {
        "id": "D66duqcqmLsV"
      },
      "execution_count": 3,
      "outputs": []
    },
    {
      "cell_type": "code",
      "source": [
        "studentDf = spark.read.options(header=True,inferschema=True).csv(\"/content/sample_data/student_data.csv\")\n",
        "studentDf.show()"
      ],
      "metadata": {
        "id": "F01HTmpftjb9",
        "outputId": "8d4a2eea-dc74-4769-ce07-13a98942e96c",
        "colab": {
          "base_uri": "https://localhost:8080/"
        }
      },
      "execution_count": 31,
      "outputs": [
        {
          "output_type": "stream",
          "name": "stdout",
          "text": [
            "+---+------+----------------+------+------+-----+--------------------+\n",
            "|age|gender|            name|course|  roll|marks|               email|\n",
            "+---+------+----------------+------+------+-----+--------------------+\n",
            "| 28|Female| Hubert Oliveras|    DB|  2984|   59|Annika Hoffman_Na...|\n",
            "| 29|Female|Toshiko Hillyard| Cloud| 12899|   62|Margene Moores_Ma...|\n",
            "| 28|  Male|  Celeste Lollis|    PF| 21267|   45|Jeannetta Golden_...|\n",
            "| 29|Female|    Elenore Choy|    DB| 32877|   29|Billi Clore_Mitzi...|\n",
            "| 28|  Male|  Sheryll Towler|   DSA| 41487|   41|Claude Panos_Judi...|\n",
            "| 28|  Male|  Margene Moores|   MVC| 52771|   32|Toshiko Hillyard_...|\n",
            "| 28|  Male|     Neda Briski|   OOP| 61973|   69|Alberta Freund_El...|\n",
            "| 28|Female|    Claude Panos| Cloud| 72409|   85|Sheryll Towler_Al...|\n",
            "| 28|  Male|  Celeste Lollis|   MVC| 81492|   64|Nicole Harwood_Cl...|\n",
            "| 29|  Male|  Cordie Harnois|   OOP| 92882|   51|Judie Chipps_Clem...|\n",
            "| 29|Female|       Kena Wild|   DSA|102285|   35|Dustin Feagins_Ma...|\n",
            "| 29|  Male| Ernest Rossbach|    DB|111449|   53|Maybell Duguay_Ab...|\n",
            "| 28|Female|  Latia Vanhoose|    DB|122502|   27|Latia Vanhoose_Mi...|\n",
            "| 29|Female|  Latia Vanhoose|   MVC|132110|   55|Eda Neathery_Nico...|\n",
            "| 29|  Male|     Neda Briski|    PF|141770|   42|Margene Moores_Mi...|\n",
            "| 29|Female|  Latia Vanhoose|    DB|152159|   27|Claude Panos_Sant...|\n",
            "| 29|  Male|  Loris Crossett|   MVC|161771|   36|Mitzi Seldon_Jenn...|\n",
            "| 29|  Male|  Annika Hoffman|   OOP|171660|   22|Taryn Brownlee_Mi...|\n",
            "| 29|  Male|   Santa Kerfien|    PF|182129|   56|Judie Chipps_Tary...|\n",
            "| 28|Female|Mickey Cortright|    DB|192537|   62|Ernest Rossbach_M...|\n",
            "+---+------+----------------+------+------+-----+--------------------+\n",
            "only showing top 20 rows\n",
            "\n"
          ]
        }
      ]
    },
    {
      "cell_type": "markdown",
      "source": [
        "#Display the total numbers of students enrolled in each course."
      ],
      "metadata": {
        "id": "4_ndgV10xQ6Z"
      }
    },
    {
      "cell_type": "code",
      "source": [
        "studentDf.groupBy(\"course\").count().show()\n",
        "studentDf.groupBy(\"course\").agg(count(\"*\").alias(\"Total Count\")).show()"
      ],
      "metadata": {
        "id": "KtEB5CrHtprs",
        "outputId": "3966495c-c0aa-4c59-c997-9b4cccd0e3ef",
        "colab": {
          "base_uri": "https://localhost:8080/"
        }
      },
      "execution_count": 21,
      "outputs": [
        {
          "output_type": "stream",
          "name": "stdout",
          "text": [
            "+------+-----+\n",
            "|course|count|\n",
            "+------+-----+\n",
            "|    PF|  166|\n",
            "|    DB|  157|\n",
            "|   MVC|  157|\n",
            "|   DSA|  176|\n",
            "| Cloud|  192|\n",
            "|   OOP|  152|\n",
            "+------+-----+\n",
            "\n",
            "+------+-----------+\n",
            "|course|Total Count|\n",
            "+------+-----------+\n",
            "|    PF|        166|\n",
            "|    DB|        157|\n",
            "|   MVC|        157|\n",
            "|   DSA|        176|\n",
            "| Cloud|        192|\n",
            "|   OOP|        152|\n",
            "+------+-----------+\n",
            "\n"
          ]
        }
      ]
    },
    {
      "cell_type": "markdown",
      "source": [
        "#Display the toatl number of male and female students enrolled n each course"
      ],
      "metadata": {
        "id": "BgDc7QBlylup"
      }
    },
    {
      "cell_type": "code",
      "source": [
        "studentDf.groupBy(\"gender\",\"course\").count().show()"
      ],
      "metadata": {
        "id": "gs141_yz2Kid"
      },
      "execution_count": null,
      "outputs": []
    },
    {
      "cell_type": "code",
      "source": [
        "studentDf.groupBy(\"course\",\"gender\").agg(count(\"*\").alias(\"Total Count\")).show()"
      ],
      "metadata": {
        "id": "Xk6Us_3UxnDh",
        "outputId": "8dc4dddd-69ad-46cf-bb77-f136faa7f846",
        "colab": {
          "base_uri": "https://localhost:8080/"
        }
      },
      "execution_count": 24,
      "outputs": [
        {
          "output_type": "stream",
          "name": "stdout",
          "text": [
            "+------+------+-----------+\n",
            "|course|gender|Total Count|\n",
            "+------+------+-----------+\n",
            "|   OOP|  Male|         70|\n",
            "|    DB|  Male|         82|\n",
            "| Cloud|Female|        106|\n",
            "|   MVC|  Male|         86|\n",
            "|   DSA|Female|         98|\n",
            "|    PF|  Male|         97|\n",
            "|   MVC|Female|         71|\n",
            "| Cloud|  Male|         86|\n",
            "|    PF|Female|         69|\n",
            "|   DSA|  Male|         78|\n",
            "|    DB|Female|         75|\n",
            "|   OOP|Female|         82|\n",
            "+------+------+-----------+\n",
            "\n"
          ]
        }
      ]
    },
    {
      "cell_type": "markdown",
      "source": [
        "#Display the total marks achiecved by each gender in each course."
      ],
      "metadata": {
        "id": "4p--WTnT0-aH"
      }
    },
    {
      "cell_type": "code",
      "source": [
        "studentDf.printSchema()"
      ],
      "metadata": {
        "id": "eNI9HHPV31ji",
        "outputId": "dd14b1f9-d729-4d69-849d-ea0798e7aa3b",
        "colab": {
          "base_uri": "https://localhost:8080/"
        }
      },
      "execution_count": 32,
      "outputs": [
        {
          "output_type": "stream",
          "name": "stdout",
          "text": [
            "root\n",
            " |-- age: integer (nullable = true)\n",
            " |-- gender: string (nullable = true)\n",
            " |-- name: string (nullable = true)\n",
            " |-- course: string (nullable = true)\n",
            " |-- roll: integer (nullable = true)\n",
            " |-- marks: integer (nullable = true)\n",
            " |-- email: string (nullable = true)\n",
            "\n"
          ]
        }
      ]
    },
    {
      "cell_type": "code",
      "source": [
        "studentDf.groupBy(\"course\",\"gender\").sum(\"marks\").show()"
      ],
      "metadata": {
        "id": "1ja-qKGA3dft",
        "outputId": "cbf56060-0206-4498-ed50-203bd6b6c360",
        "colab": {
          "base_uri": "https://localhost:8080/"
        }
      },
      "execution_count": 34,
      "outputs": [
        {
          "output_type": "stream",
          "name": "stdout",
          "text": [
            "+------+------+----------+\n",
            "|gender|course|sum(marks)|\n",
            "+------+------+----------+\n",
            "|Female| Cloud|      6316|\n",
            "|Female|   OOP|      4682|\n",
            "|  Male|    PF|      5960|\n",
            "|  Male|    DB|      5073|\n",
            "|  Male| Cloud|      5127|\n",
            "|  Male|   OOP|      4234|\n",
            "|Female|   DSA|      6124|\n",
            "|Female|    DB|      4197|\n",
            "|  Male|   DSA|      4826|\n",
            "|  Male|   MVC|      5241|\n",
            "|Female|   MVC|      4344|\n",
            "|Female|    PF|      3973|\n",
            "+------+------+----------+\n",
            "\n"
          ]
        }
      ]
    },
    {
      "cell_type": "code",
      "source": [
        "studentDf.groupBy(\"gender\",\"course\").agg(sum(\"marks\").alias(\"Total marks\")).show()"
      ],
      "metadata": {
        "id": "FS9kd1Ao1Ay4",
        "outputId": "58a6f11a-7039-4ec3-b890-89540d3fd190",
        "colab": {
          "base_uri": "https://localhost:8080/"
        }
      },
      "execution_count": 35,
      "outputs": [
        {
          "output_type": "stream",
          "name": "stdout",
          "text": [
            "+------+------+-----------+\n",
            "|gender|course|Total marks|\n",
            "+------+------+-----------+\n",
            "|Female| Cloud|       6316|\n",
            "|Female|   OOP|       4682|\n",
            "|  Male|    PF|       5960|\n",
            "|  Male|    DB|       5073|\n",
            "|  Male| Cloud|       5127|\n",
            "|  Male|   OOP|       4234|\n",
            "|Female|   DSA|       6124|\n",
            "|Female|    DB|       4197|\n",
            "|  Male|   DSA|       4826|\n",
            "|  Male|   MVC|       5241|\n",
            "|Female|   MVC|       4344|\n",
            "|Female|    PF|       3973|\n",
            "+------+------+-----------+\n",
            "\n"
          ]
        }
      ]
    },
    {
      "cell_type": "markdown",
      "source": [
        "#Display the miminum, maximum and average marks achieed in each course by each age group."
      ],
      "metadata": {
        "id": "MIv6u_mF4I29"
      }
    },
    {
      "cell_type": "code",
      "source": [
        "studentDf.groupBy(\"gender\",\"age\").agg(min(\"marks\").alias(\"Minimum Marks\"),max(\"marks\").alias(\"Maximum Marks\"),avg(\"marks\").alias(\"Average Marks\")).show()"
      ],
      "metadata": {
        "id": "AhM-rQyR4Iao",
        "outputId": "d6ddf486-5fdd-4e99-f65b-f282d28eb91a",
        "colab": {
          "base_uri": "https://localhost:8080/"
        }
      },
      "execution_count": 38,
      "outputs": [
        {
          "output_type": "stream",
          "name": "stdout",
          "text": [
            "+------+---+-------------+-------------+------------------+\n",
            "|gender|age|Minimum Marks|Maximum Marks|     Average Marks|\n",
            "+------+---+-------------+-------------+------------------+\n",
            "|Female| 29|           20|           99| 58.85306122448979|\n",
            "|Female| 28|           20|           99|       59.44140625|\n",
            "|  Male| 28|           20|           99| 61.61344537815126|\n",
            "|  Male| 29|           20|           99|60.524904214559385|\n",
            "+------+---+-------------+-------------+------------------+\n",
            "\n"
          ]
        }
      ]
    },
    {
      "cell_type": "markdown",
      "source": [
        "#**WordCount Problem**"
      ],
      "metadata": {
        "id": "zuQ9i9Bf7Cvq"
      }
    },
    {
      "cell_type": "code",
      "source": [
        "wrdcount =  spark.read.options(inferschema = True).text(\"/content/sample_data/WordData.txt\")\n",
        "wrdcount.show()"
      ],
      "metadata": {
        "id": "tnzhqXHI7GoW",
        "outputId": "4ac53b4b-541d-4153-993a-bb6bbcfb5199",
        "colab": {
          "base_uri": "https://localhost:8080/"
        }
      },
      "execution_count": 43,
      "outputs": [
        {
          "output_type": "stream",
          "name": "stdout",
          "text": [
            "+------+\n",
            "| value|\n",
            "+------+\n",
            "| Apple|\n",
            "|   Mic|\n",
            "|   Mic|\n",
            "| Apple|\n",
            "|Laptop|\n",
            "| Apple|\n",
            "|   Mic|\n",
            "|   Mic|\n",
            "| Apple|\n",
            "|Laptop|\n",
            "| Chair|\n",
            "| Chair|\n",
            "| Chair|\n",
            "|   Bag|\n",
            "|Mobile|\n",
            "|  Book|\n",
            "| Chair|\n",
            "| Chair|\n",
            "| Chair|\n",
            "|   Bag|\n",
            "+------+\n",
            "only showing top 20 rows\n",
            "\n"
          ]
        }
      ]
    },
    {
      "cell_type": "code",
      "source": [
        "wrdcount.groupBy(\"value\").count().show()"
      ],
      "metadata": {
        "id": "NR-DG2x47tXD",
        "outputId": "17a1c129-b44f-4a11-a1ab-1038bccbc28f",
        "colab": {
          "base_uri": "https://localhost:8080/"
        }
      },
      "execution_count": 44,
      "outputs": [
        {
          "output_type": "stream",
          "name": "stdout",
          "text": [
            "+------+-----+\n",
            "| value|count|\n",
            "+------+-----+\n",
            "|   Mic|   10|\n",
            "| Chair|   15|\n",
            "|  Book|    5|\n",
            "|Laptop|    5|\n",
            "|   Bag|    5|\n",
            "|Mobile|    5|\n",
            "| Apple|   10|\n",
            "|      |    1|\n",
            "+------+-----+\n",
            "\n"
          ]
        }
      ]
    }
  ]
}