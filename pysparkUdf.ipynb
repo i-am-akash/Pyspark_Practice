{
  "nbformat": 4,
  "nbformat_minor": 0,
  "metadata": {
    "colab": {
      "provenance": [],
      "authorship_tag": "ABX9TyOmm5/ThTERrBeW14Y0mmHA",
      "include_colab_link": true
    },
    "kernelspec": {
      "name": "python3",
      "display_name": "Python 3"
    },
    "language_info": {
      "name": "python"
    }
  },
  "cells": [
    {
      "cell_type": "markdown",
      "metadata": {
        "id": "view-in-github",
        "colab_type": "text"
      },
      "source": [
        "<a href=\"https://colab.research.google.com/github/i-am-akash/Pyspark_Practice/blob/main/pysparkUdf.ipynb\" target=\"_parent\"><img src=\"https://colab.research.google.com/assets/colab-badge.svg\" alt=\"Open In Colab\"/></a>"
      ]
    },
    {
      "cell_type": "markdown",
      "source": [
        "#Pyspark UDF Quiz :\n",
        "\n",
        "\n",
        "*   Read the office Data csv\n",
        "*   Create a new column increment and provide the increment to the employees on following crietria \n",
        "\n",
        "\n",
        ">  1.  If the employee is in NY state his increment woruld be 10% of salary and 5 % of bonus\n",
        ">  2.If the employee is in CA state his increment woruld be 12% of salary and 3 % of bonus\n",
        " \n",
        "      \n",
        "\n",
        "\n",
        "\n",
        "\n",
        "\n"
      ],
      "metadata": {
        "id": "6JgXmVPLk29n"
      }
    },
    {
      "cell_type": "code",
      "execution_count": 1,
      "metadata": {
        "id": "U9S0UxS6xJmq",
        "outputId": "c2674547-7c69-4e1b-b1b0-b170bfa1f674",
        "colab": {
          "base_uri": "https://localhost:8080/"
        }
      },
      "outputs": [
        {
          "output_type": "stream",
          "name": "stdout",
          "text": [
            "Looking in indexes: https://pypi.org/simple, https://us-python.pkg.dev/colab-wheels/public/simple/\n",
            "Collecting pyspark\n",
            "  Downloading pyspark-3.3.0.tar.gz (281.3 MB)\n",
            "\u001b[K     |████████████████████████████████| 281.3 MB 49 kB/s \n",
            "\u001b[?25hCollecting py4j==0.10.9.5\n",
            "  Downloading py4j-0.10.9.5-py2.py3-none-any.whl (199 kB)\n",
            "\u001b[K     |████████████████████████████████| 199 kB 56.9 MB/s \n",
            "\u001b[?25hBuilding wheels for collected packages: pyspark\n",
            "  Building wheel for pyspark (setup.py) ... \u001b[?25l\u001b[?25hdone\n",
            "  Created wheel for pyspark: filename=pyspark-3.3.0-py2.py3-none-any.whl size=281764026 sha256=84a107e4bbae3023665a857b00a0a309f117537726ac102c82770bc400e23367\n",
            "  Stored in directory: /root/.cache/pip/wheels/7a/8e/1b/f73a52650d2e5f337708d9f6a1750d451a7349a867f928b885\n",
            "Successfully built pyspark\n",
            "Installing collected packages: py4j, pyspark\n",
            "Successfully installed py4j-0.10.9.5 pyspark-3.3.0\n"
          ]
        }
      ],
      "source": [
        "pip install pyspark"
      ]
    },
    {
      "cell_type": "code",
      "source": [],
      "metadata": {
        "id": "V1S2Cq2Xk2ln"
      },
      "execution_count": null,
      "outputs": []
    },
    {
      "cell_type": "code",
      "source": [
        "from pyspark import *\n",
        "from pyspark.sql import *\n",
        "from pyspark.sql.functions import *\n",
        "from pyspark.sql.types import *"
      ],
      "metadata": {
        "id": "pG8yO9fIeeN-"
      },
      "execution_count": 15,
      "outputs": []
    },
    {
      "cell_type": "code",
      "source": [
        "spark = SparkSession.builder.appName(\"Udf\").getOrCreate()"
      ],
      "metadata": {
        "id": "1zamar5Kelv8"
      },
      "execution_count": 8,
      "outputs": []
    },
    {
      "cell_type": "code",
      "source": [
        "df = spark.read.options( inferschema=True, header=True).csv(\"/content/sample_data/OfficeData.csv\")"
      ],
      "metadata": {
        "id": "DiepMq23fgpl"
      },
      "execution_count": 10,
      "outputs": []
    },
    {
      "cell_type": "code",
      "source": [
        "df.show()"
      ],
      "metadata": {
        "id": "Zp8Z2eMRgIX8",
        "outputId": "145d7e24-f7e6-49cf-d2e3-22d19d5f1878",
        "colab": {
          "base_uri": "https://localhost:8080/"
        }
      },
      "execution_count": 11,
      "outputs": [
        {
          "output_type": "stream",
          "name": "stdout",
          "text": [
            "+-------------+----------+-----+------+---+-----+\n",
            "|employee_name|department|state|salary|age|bonus|\n",
            "+-------------+----------+-----+------+---+-----+\n",
            "|        James|     Sales|   NY| 90000| 34|10000|\n",
            "|      Michael|     Sales|   NY| 86000| 56|20000|\n",
            "|       Robert|     Sales|   CA| 81000| 30|23000|\n",
            "|        Maria|   Finance|   CA| 90000| 24|23000|\n",
            "|        Raman|   Finance|   CA| 99000| 40|24000|\n",
            "|        Scott|   Finance|   NY| 83000| 36|19000|\n",
            "|          Jen|   Finance|   NY| 79000| 53|15000|\n",
            "|         Jeff| Marketing|   CA| 80000| 25|18000|\n",
            "|        Kumar| Marketing|   NY| 91000| 50|21000|\n",
            "+-------------+----------+-----+------+---+-----+\n",
            "\n"
          ]
        }
      ]
    },
    {
      "cell_type": "markdown",
      "source": [
        "This will be part of the udf"
      ],
      "metadata": {
        "id": "4_aep-TZiPAb"
      }
    },
    {
      "cell_type": "code",
      "source": [
        "def increment(state, salary, bonus):\n",
        "  increment = 0\n",
        "  if(state == 'NY'):\n",
        "    increment = (salary*10)/100+(bonus*5)/100\n",
        "  \n",
        "  elif(state == \"CA\"):\n",
        "    increment = (salary*12)/100+(bonus*3)/10\n",
        "  print(\"reaching\")\n",
        "  return increment"
      ],
      "metadata": {
        "id": "RNZH0SHsgL6j"
      },
      "execution_count": 23,
      "outputs": []
    },
    {
      "cell_type": "markdown",
      "source": [
        "Calling this udf so it will caculary"
      ],
      "metadata": {
        "id": "k002_Y0yiTnT"
      }
    },
    {
      "cell_type": "code",
      "source": [
        "incrementUDF = udf(lambda x,y,z: increment(x,y,z),DoubleType())"
      ],
      "metadata": {
        "id": "PFB2t6FWiYNV"
      },
      "execution_count": 34,
      "outputs": []
    },
    {
      "cell_type": "code",
      "source": [
        "incrementedDF = df.withColumn(\"Increment\",incrementUDF(df.state,df.salary,df.bonus))"
      ],
      "metadata": {
        "id": "PvjNrrG9jOYf"
      },
      "execution_count": 35,
      "outputs": []
    },
    {
      "cell_type": "code",
      "source": [
        "incrementedDF.show()"
      ],
      "metadata": {
        "id": "5crIFHx7jd2Y",
        "outputId": "43e05dd9-564e-444f-b7c1-f0b58e2e9905",
        "colab": {
          "base_uri": "https://localhost:8080/"
        }
      },
      "execution_count": 36,
      "outputs": [
        {
          "output_type": "stream",
          "name": "stdout",
          "text": [
            "+-------------+----------+-----+------+---+-----+---------+\n",
            "|employee_name|department|state|salary|age|bonus|Increment|\n",
            "+-------------+----------+-----+------+---+-----+---------+\n",
            "|        James|     Sales|   NY| 90000| 34|10000|   9500.0|\n",
            "|      Michael|     Sales|   NY| 86000| 56|20000|   9600.0|\n",
            "|       Robert|     Sales|   CA| 81000| 30|23000|  16620.0|\n",
            "|        Maria|   Finance|   CA| 90000| 24|23000|  17700.0|\n",
            "|        Raman|   Finance|   CA| 99000| 40|24000|  19080.0|\n",
            "|        Scott|   Finance|   NY| 83000| 36|19000|   9250.0|\n",
            "|          Jen|   Finance|   NY| 79000| 53|15000|   8650.0|\n",
            "|         Jeff| Marketing|   CA| 80000| 25|18000|  15000.0|\n",
            "|        Kumar| Marketing|   NY| 91000| 50|21000|  10150.0|\n",
            "+-------------+----------+-----+------+---+-----+---------+\n",
            "\n"
          ]
        }
      ]
    }
  ]
}