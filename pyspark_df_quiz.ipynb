{
  "nbformat": 4,
  "nbformat_minor": 0,
  "metadata": {
    "colab": {
      "provenance": [],
      "authorship_tag": "ABX9TyP1rPVZ61/GqZIDJGhQW5d0",
      "include_colab_link": true
    },
    "kernelspec": {
      "name": "python3",
      "display_name": "Python 3"
    },
    "language_info": {
      "name": "python"
    }
  },
  "cells": [
    {
      "cell_type": "markdown",
      "metadata": {
        "id": "view-in-github",
        "colab_type": "text"
      },
      "source": [
        "<a href=\"https://colab.research.google.com/github/i-am-akash/Pyspark_Practice/blob/main/pyspark_df_quiz.ipynb\" target=\"_parent\"><img src=\"https://colab.research.google.com/assets/colab-badge.svg\" alt=\"Open In Colab\"/></a>"
      ]
    },
    {
      "cell_type": "markdown",
      "source": [
        "#This is the quiz on dataframe select, withcoulm filter \n",
        "\n",
        "Problem statement :\n",
        "\n",
        "1.   Read the student csv file \n",
        "2.   Write code to display unique rows for age, gender, course, \n",
        "\n",
        "\n"
      ],
      "metadata": {
        "id": "Q4Ip0lkNa3s_"
      }
    },
    {
      "cell_type": "code",
      "execution_count": 1,
      "metadata": {
        "id": "o9IzKeH5ECH7",
        "outputId": "a7a91762-8e48-488a-9c34-b7d7863d3cbb",
        "colab": {
          "base_uri": "https://localhost:8080/"
        }
      },
      "outputs": [
        {
          "output_type": "stream",
          "name": "stdout",
          "text": [
            "Looking in indexes: https://pypi.org/simple, https://us-python.pkg.dev/colab-wheels/public/simple/\n",
            "Collecting pyspark\n",
            "  Downloading pyspark-3.3.0.tar.gz (281.3 MB)\n",
            "\u001b[K     |████████████████████████████████| 281.3 MB 43 kB/s \n",
            "\u001b[?25hCollecting py4j==0.10.9.5\n",
            "  Downloading py4j-0.10.9.5-py2.py3-none-any.whl (199 kB)\n",
            "\u001b[K     |████████████████████████████████| 199 kB 61.1 MB/s \n",
            "\u001b[?25hBuilding wheels for collected packages: pyspark\n",
            "  Building wheel for pyspark (setup.py) ... \u001b[?25l\u001b[?25hdone\n",
            "  Created wheel for pyspark: filename=pyspark-3.3.0-py2.py3-none-any.whl size=281764026 sha256=a20f5251d86c9d327c590d83e3767f18c8039de3cbafe7ae2cc25b6e16cffb96\n",
            "  Stored in directory: /root/.cache/pip/wheels/7a/8e/1b/f73a52650d2e5f337708d9f6a1750d451a7349a867f928b885\n",
            "Successfully built pyspark\n",
            "Installing collected packages: py4j, pyspark\n",
            "Successfully installed py4j-0.10.9.5 pyspark-3.3.0\n"
          ]
        }
      ],
      "source": [
        "pip install pyspark"
      ]
    },
    {
      "cell_type": "code",
      "source": [
        "import pyspark\n",
        "from pyspark.sql import *\n",
        "from pyspark.sql.functions import *"
      ],
      "metadata": {
        "id": "uw8W6uaKcWVg"
      },
      "execution_count": 6,
      "outputs": []
    },
    {
      "cell_type": "code",
      "source": [
        "spark = SparkSession.builder.appName(\"quiz\").getOrCreate()\n"
      ],
      "metadata": {
        "id": "uCMWefjrc9po"
      },
      "execution_count": 9,
      "outputs": []
    },
    {
      "cell_type": "code",
      "source": [
        "df = spark.read.options(header = \"True\").csv(\"/content/sample_data/student_data.csv\")"
      ],
      "metadata": {
        "id": "U20gn-g2dp96"
      },
      "execution_count": 21,
      "outputs": []
    },
    {
      "cell_type": "code",
      "source": [
        "df.printSchema()"
      ],
      "metadata": {
        "id": "6PSV_zZ_hhJB",
        "outputId": "4822117c-a5d8-43a8-fc21-75d4d1a945fc",
        "colab": {
          "base_uri": "https://localhost:8080/"
        }
      },
      "execution_count": 22,
      "outputs": [
        {
          "output_type": "stream",
          "name": "stdout",
          "text": [
            "root\n",
            " |-- age: string (nullable = true)\n",
            " |-- gender: string (nullable = true)\n",
            " |-- name: string (nullable = true)\n",
            " |-- course: string (nullable = true)\n",
            " |-- roll: string (nullable = true)\n",
            " |-- marks: string (nullable = true)\n",
            " |-- email: string (nullable = true)\n",
            "\n"
          ]
        }
      ]
    },
    {
      "cell_type": "code",
      "source": [
        "df = df.select(\"age\",\"gender\",\"course\").distinct()\n",
        "df.show()\n",
        "df.count()"
      ],
      "metadata": {
        "id": "m8eE61LVjJ0y",
        "outputId": "acd2426f-9c7e-4b2e-ac52-34953f0e218b",
        "colab": {
          "base_uri": "https://localhost:8080/"
        }
      },
      "execution_count": 25,
      "outputs": [
        {
          "output_type": "stream",
          "name": "stdout",
          "text": [
            "+---+------+------+\n",
            "|age|gender|course|\n",
            "+---+------+------+\n",
            "| 28|Female|   OOP|\n",
            "| 28|  Male|    DB|\n",
            "| 29|  Male|   OOP|\n",
            "| 29|  Male|   DSA|\n",
            "| 28|Female|    PF|\n",
            "| 28|Female|   DSA|\n",
            "| 29|  Male|   MVC|\n",
            "| 29|Female|    PF|\n",
            "| 29|  Male|    DB|\n",
            "| 29|Female|   MVC|\n",
            "| 29|Female|    DB|\n",
            "| 28|  Male|   OOP|\n",
            "| 28|  Male|   DSA|\n",
            "| 28|Female|   MVC|\n",
            "| 28|  Male|   MVC|\n",
            "| 28|Female|    DB|\n",
            "| 29|Female|   DSA|\n",
            "| 29|Female| Cloud|\n",
            "| 28|  Male| Cloud|\n",
            "| 29|Female|   OOP|\n",
            "+---+------+------+\n",
            "only showing top 20 rows\n",
            "\n"
          ]
        },
        {
          "output_type": "execute_result",
          "data": {
            "text/plain": [
              "24"
            ]
          },
          "metadata": {},
          "execution_count": 25
        }
      ]
    },
    {
      "cell_type": "code",
      "source": [
        "df.drop_duplicates([\"age\",\"gender\",\"course\"])\n",
        "df.count()"
      ],
      "metadata": {
        "id": "7PJqZgh_nk2c",
        "outputId": "4bf48bc2-a5ea-409d-89ac-902e1e4a72d4",
        "colab": {
          "base_uri": "https://localhost:8080/"
        }
      },
      "execution_count": 28,
      "outputs": [
        {
          "output_type": "execute_result",
          "data": {
            "text/plain": [
              "24"
            ]
          },
          "metadata": {},
          "execution_count": 28
        }
      ]
    },
    {
      "cell_type": "markdown",
      "source": [
        "#Quiz sort By Oreder by \\\n",
        "\n",
        "\n",
        "1.   Use Office_Data.csv\n",
        "2.   Create a DF, sorted on bonus in ascending ordre and show it.\n",
        "3.   Create a DF sorted on age and salary in descending and ascending respectively show it\n",
        "4. Create a DF sorted on age bonus and salary in desceding, descending and ascednging order respectlivly and show it.\n",
        "\n"
      ],
      "metadata": {
        "id": "Hdnd_yuQykkC"
      }
    },
    {
      "cell_type": "code",
      "source": [],
      "metadata": {
        "id": "b1pS-idWynmG"
      },
      "execution_count": null,
      "outputs": []
    }
  ]
}